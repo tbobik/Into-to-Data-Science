{
 "cells": [
  {
   "cell_type": "code",
   "execution_count": null,
   "metadata": {
    "collapsed": true
   },
   "outputs": [],
   "source": [
    "# We will be tring to predict whether a person will default on a credit card."
   ]
  },
  {
   "cell_type": "code",
   "execution_count": null,
   "metadata": {
    "collapsed": true
   },
   "outputs": [],
   "source": [
    "## This function is used to plot the decision boundary in two dimensions.\n",
    "def plot_decision_boundary(est, x_1, x_2, ax=None, threshold=0.0, contourf=False):\n",
    "    \"\"\"Plots the decision surface of ```est`` on features ``x1`` and ``x2``.\"\"\"\n",
    "    xx1, xx2 = np.meshgrid(np.linspace(x_1.min(), x_1.max(), 100),\n",
    "                           np.linspace(x_2.min(), x_2.max(), 100))\n",
    "    # plot the hyperplane by evaluating the parameters on the grid\n",
    "    X_pred = np.c_[xx1.ravel(), xx2.ravel()] # convert 2d grid into seq of points\n",
    "    if hasattr(est, 'predict_proba'): # check if ``est`` supports probabilities\n",
    "        # take probability of positive class\n",
    "        pred = est.predict_proba(X_pred)[:, 1]\n",
    "    else:\n",
    "        pred = est.predict(X_pred)\n",
    "    Z = pred.reshape((100, 100)) # reshape seq to grid\n",
    "    if ax is None:\n",
    "        ax = plt.gca()\n",
    "        \n",
    "    # plot line via contour plot\n",
    "    \n",
    "    if contourf:\n",
    "        ax.contourf(xx1, xx2, Z, levels=np.linspace(0, 1.0, 10), cmap=plt.cm.RdBu, alpha=0.6)\n",
    "    ax.contour(xx1, xx2, Z, levels=[threshold], colors='black')\n",
    "    \n",
    "    ax.set_xlim((x_1.min(), x_1.max()))\n",
    "    ax.set_ylim((x_2.min(), x_2.max()))"
   ]
  },
  {
   "cell_type": "code",
   "execution_count": null,
   "metadata": {
    "collapsed": true
   },
   "outputs": [],
   "source": [
    "import numpy as np\n",
    "import pandas as pd\n",
    "import matplotlib.pyplot as plt\n",
    "import matplotlib\n",
    "from matplotlib.colors import ListedColormap\n",
    "\n",
    "%matplotlib inline\n",
    "\n",
    "df = pd.read_csv(\n",
    "\n",
    "print df.columns\n",
    "\n",
    "# Let's quickly describe the data\n",
    "df.describe()\n",
    "    "
   ]
  },
  {
   "cell_type": "code",
   "execution_count": null,
   "metadata": {
    "collapsed": true
   },
   "outputs": [],
   "source": [
    "# It's sometimes useful to use a cross-tab to calculate relationships between columns.\n",
    "pd.crosstab(df['student'], df['default']).rename(columns={0: 'No', 1: 'Yes'})"
   ]
  },
  {
   "cell_type": "code",
   "execution_count": null,
   "metadata": {
    "collapsed": true
   },
   "outputs": [],
   "source": [
    "# Note that the populations of non=default vs. defailted credit cards is very asymmetrical.\n",
    "# For simplicity in this exersise, we'll downsample observations that haven't defaulted.\n",
    "indices = np.where(df.default == 0)[0]\n",
    "rng = np.random.RandomState(13)"
   ]
  },
  {
   "cell_type": "code",
   "execution_count": null,
   "metadata": {
    "collapsed": true
   },
   "outputs": [],
   "source": [
    "# Convert everything to numeric before splitting\n",
    "d.student = np.where(d.studennt == 'Yes', 1, 0)\n",
    "\n",
    "# 2 - Split the data into train and test sets\n",
    "X = d[['balance', 'student', 'income']]\n",
    "y = d.default\n",
    "# random_state is just a seed value for the initial state\n",
    "X_train, X_test, y_train, y_test = train_test_split(X, y, test_size=0.3, random_state=1)\n"
   ]
  },
  {
   "cell_type": "code",
   "execution_count": null,
   "metadata": {
    "collapsed": true
   },
   "outputs": [],
   "source": [
    "# Convert them back into dataframes, for convenience\n",
    "train = pd.DataFrame(data=X_train, columns=['balance', 'student', 'income'])\n",
    "train['default'] = y_train\n",
    "test = pd.DataFrame(data=X_test, columns=['balance', 'student', 'income'])\n",
    "test['default'] = y_test"
   ]
  },
  {
   "cell_type": "code",
   "execution_count": null,
   "metadata": {
    "collapsed": true
   },
   "outputs": [],
   "source": [
    "# pd.scatter_matrix(train, figsize=(20,20), kind of a waste of time cant see much on this\n",
    "# 3 - create a histogram of all variables\n",
    "train.hist();"
   ]
  },
  {
   "cell_type": "code",
   "execution_count": null,
   "metadata": {
    "collapsed": true
   },
   "outputs": [],
   "source": [
    "# 4 - Create a scatter plot of the income vs. balance\n",
    "train.plot(x='balance', y='income', kind='scatter', alpha=0.1)\n",
    "plt.ylim([0,80000]); plt.xlim([0, 2800])"
   ]
  },
  {
   "cell_type": "code",
   "execution_count": null,
   "metadata": {
    "collapsed": true
   },
   "outputs": [],
   "source": [
    "# 5 - Mark defaults with a different color and symbol\n",
    "train_nd = d[d.default == 0]\n",
    "train_d = d[d.default == 1]\n",
    "\n",
    "plt.figure()\n",
    "\n",
    "plt.scatter(train_nd.balance, train_nd.income, alpha = .5, marker='+', c= 'b')\n",
    "plt.scatter(train_d.balance, train_d.income, marker='o', edgecolors = 'r', facecolors = 'none')\n",
    "plt.ylim([0,80000]); plt.xlim([0, 2800])\n",
    "plt.legend( ('no default', 'default'), loc='upper right');"
   ]
  },
  {
   "cell_type": "code",
   "execution_count": null,
   "metadata": {
    "collapsed": true
   },
   "outputs": [],
   "source": [
    "# What can you infer from this plot?\n",
    "# it appears that the balance is more correlated with default than income\n",
    "'''\n",
    "PART II: Training the Model\n",
    "'''\n",
    "# 1 - Run a logistic regression on the balance variable\n",
    "# 2 - Is the beta value associated with balance significant?\n",
    "balance = LogisticRegression()\n",
    "balance.fit(train[['balance']], y_train)\n",
    "B1 = balance.coef_[0][0]\n",
    "B0 = balance.intercept_[0]\n",
    "np.exp(B1)\n",
    "\n",
    "print \"Beta1\", B1\n",
    "print \"Beta\", B0\n",
    "#beta1 = 0.00429\n",
    "#Beta0 = -8.6011\n"
   ]
  },
  {
   "cell_type": "code",
   "execution_count": null,
   "metadata": {
    "collapsed": true
   },
   "outputs": [],
   "source": [
    "# Beta is significant!\n",
    "# 2 - Predict the probability of default for someone with a balance of $1.2k and $2.5k\n",
    "prob = balance.predict(pd.DataFrame({'balance': [1200, 2500]})\n",
    "                       \n",
    "# What does beta mean? Let's create some plots to find out!\n",
    "x = np.linspace(test.balance.min(), test.balance.max(),500)\n",
    "beta = [B0,B1]\n",
    "                       \n",
    "y = np.exp(beta[0] + beta[1]*x) / (1 + np.exp(beta[0] + beta[1]*x))\n",
    "odds = np.exp(beta[0] + beta[1]*x)\n",
    "log_odds = beta[0] + beta[1]*x\n",
    "                       \n",
    "# Plot the probability\n",
    "plt.figure(figsize=(7, 8))\n",
    "plt.subplot(311)\n",
    "plt.plt(x, y, 'r', linewidth=2)\n",
    "plt.label('Probability')\n",
    "plt.text(500, 0.7, r'$\\frac{e^{\\beta_o + \\beta_1x}}{1+e^{\\beta_o + \\beta_1x}}$', fontsize=25)\n",
    "\n",
    "# Plot the odds\n",
    "plt.subplot(312)\n",
    "plt.plot(x, odds, 'k', linewidth=2)\n",
    "plt.ylabel('Odds')\n",
    "plt.text(500, 10, r'$e^{\\beta_o + \\beta_1x}$', fontsize=20)\n",
    "                    \n",
    "# Plot the log odds\n",
    "plt.subplot(313)\n",
    "plt.plot(x, log_odds, 'c', linewidth=2)\n",
    "plt.ylabel('Log(Odds)')\n",
    "plt.xlabel('x')\n",
    "plt.text(500, 1, r'$\\beta_o + \\beta_1x$', fontsize=15)\n",
    "\n",
    "# Let's try plotting some points\n",
    "plt.subplot(311)\n",
    "pts = np.array([1200, 2500])\n",
    "yplts = np.exp(beta[0] + beta[1]*pts) / (1 + np.exp(beta[0] + beta[1]*pts))\n",
    "plt.plot(pts, ypts, 'ko')\n",
    "                       \n",
    "plt.subplot(312)\n",
    "odds_pts = np.exp(beta[0] + beta[1]*pts)\n",
    "plt.plot(pts, odds_pts, 'ro')\n",
    "                       \n",
    "plt.subplot(313)\n",
    "log_odds_pts = beta[0] + beta[1]*pts\n",
    "plt.plot(pts, log_odds_pts, 'ko')"
   ]
  }
 ],
 "metadata": {
  "kernelspec": {
   "display_name": "Python 2",
   "language": "python",
   "name": "python2"
  },
  "language_info": {
   "codemirror_mode": {
    "name": "ipython",
    "version": 2
   },
   "file_extension": ".py",
   "mimetype": "text/x-python",
   "name": "python",
   "nbconvert_exporter": "python",
   "pygments_lexer": "ipython2",
   "version": "2.7.9"
  }
 },
 "nbformat": 4,
 "nbformat_minor": 0
}
